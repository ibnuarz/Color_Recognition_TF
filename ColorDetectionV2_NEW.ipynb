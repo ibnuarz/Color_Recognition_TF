{
  "nbformat": 4,
  "nbformat_minor": 0,
  "metadata": {
    "colab": {
      "provenance": [],
      "machine_shape": "hm",
      "gpuType": "T4"
    },
    "kernelspec": {
      "name": "python3",
      "display_name": "Python 3"
    },
    "language_info": {
      "name": "python"
    },
    "accelerator": "GPU"
  },
  "cells": [
    {
      "cell_type": "code",
      "execution_count": null,
      "metadata": {
        "id": "8l7E11wxmAD0"
      },
      "outputs": [],
      "source": [
        "from google.colab import drive\n",
        "drive.mount('/content/drive')"
      ]
    },
    {
      "cell_type": "code",
      "source": [
        "import os\n",
        "import tensorflow as tf\n",
        "from tensorflow.keras.models import Sequential\n",
        "from tensorflow.keras.layers import Conv2D, MaxPooling2D, Flatten, Dense, Dropout\n",
        "from tensorflow.keras.preprocessing.image import ImageDataGenerator\n"
      ],
      "metadata": {
        "id": "dBJGHoUtnAZb"
      },
      "execution_count": null,
      "outputs": []
    },
    {
      "cell_type": "code",
      "source": [
        "def count_classes(data_dir):\n",
        "    classes = os.listdir(data_dir)\n",
        "    return len(classes), classes"
      ],
      "metadata": {
        "id": "XWPXeNxKNnfw"
      },
      "execution_count": null,
      "outputs": []
    },
    {
      "cell_type": "code",
      "source": [
        "def model_color_detection_DSV3():\n",
        "    batch_size = 32\n",
        "    img_height = 224\n",
        "    img_width = 224\n",
        "\n",
        "    train_data_dir = '/content/drive/My Drive/dataset/WARNA_V2/training'\n",
        "    val_data_dir = '/content/drive/My Drive/dataset/WARNA_V2/validation'\n",
        "\n",
        "    num_classes_train, classes_train = count_classes(train_data_dir)\n",
        "    num_classes_val, classes_val = count_classes(val_data_dir)\n",
        "\n",
        "    print(f\"Jumlah kelas dalam training data: {num_classes_train}\")\n",
        "    print(f\"Kelas-kelas dalam training data: {classes_train}\")\n",
        "\n",
        "    print(f\"\\nJumlah kelas dalam validation data: {num_classes_val}\")\n",
        "    print(f\"Kelas-kelas dalam validation data: {classes_val}\")\n",
        "\n",
        "    datagen_train = ImageDataGenerator(\n",
        "        rescale=1./255,\n",
        "        shear_range=0.2,\n",
        "        zoom_range=0.2,\n",
        "        horizontal_flip=True,\n",
        "        validation_split=0.2\n",
        "    )\n",
        "\n",
        "    datagen_val = ImageDataGenerator(rescale=1./255)\n",
        "\n",
        "    train_dataset = datagen_train.flow_from_directory(\n",
        "        train_data_dir,\n",
        "        target_size=(img_height, img_width),\n",
        "        batch_size=batch_size,\n",
        "        class_mode='categorical',\n",
        "        subset='training'\n",
        "    )\n",
        "\n",
        "    val_dataset = datagen_val.flow_from_directory(\n",
        "        val_data_dir,\n",
        "        target_size=(img_height, img_width),\n",
        "        batch_size=batch_size,\n",
        "        class_mode='categorical',\n",
        "    )\n",
        "\n",
        "    model = Sequential([\n",
        "        Conv2D(32, (3, 3), activation='relu', input_shape=(img_height, img_width, 3)),\n",
        "        MaxPooling2D(2, 2),\n",
        "        Conv2D(64, (3, 3), activation='relu'),\n",
        "        MaxPooling2D(2, 2),\n",
        "        Conv2D(128, (3, 3), activation='relu'),\n",
        "        MaxPooling2D(2, 2),\n",
        "        Flatten(),\n",
        "        Dense(128, activation='relu'),\n",
        "        Dropout(0.5),\n",
        "        Dense(num_classes_train, activation='softmax')\n",
        "    ])\n",
        "\n",
        "    optimizer = tf.keras.optimizers.Adam(learning_rate=0.001)\n",
        "\n",
        "    model.compile(optimizer=optimizer, loss='categorical_crossentropy', metrics=['accuracy'])\n",
        "\n",
        "    #class MyCallback(tf.keras.callbacks.Callback):\n",
        "    #    def on_epoch_end(self, epoch, logs={}):\n",
        "    #       if logs.get('accuracy') > 0.90 and logs.get('val_accuracy') > 0.90:\n",
        "    #            self.model.stop_training = True\n",
        "\n",
        "    #my_callback = MyCallback()\n",
        "\n",
        "    model.fit(train_dataset, epochs=50, validation_data=val_dataset)\n",
        "\n",
        "    return model"
      ],
      "metadata": {
        "id": "kvlHWRpTP7I9"
      },
      "execution_count": null,
      "outputs": []
    },
    {
      "cell_type": "code",
      "source": [
        "if __name__ == '__main__':\n",
        "    #model = model_color_detection_DSV3()\n",
        "    #model.save(\"/content/drive/My Drive/model_color_recognition_DSV3/model_color_recognition_DSV3.h5\")\n",
        "\n",
        "    # Load model\n",
        "    model_path = \"/content/drive/My Drive/model_color_recognition_DSV3/model_color_recognition_DSV3.h5\"\n",
        "    model = tf.keras.models.load_model(model_path)\n",
        "\n",
        "    # Convert model to TensorFlow Lite\n",
        "    converter = tf.lite.TFLiteConverter.from_keras_model(model)\n",
        "    tflite_model = converter.convert()\n",
        "\n",
        "    # Save the TensorFlow Lite model to a file\n",
        "    tflite_model_path = \"/content/drive/My Drive/MODEL_color_tflite/model_color_recognition_DSV3.tflite\"\n",
        "    with open(tflite_model_path, 'wb') as f:\n",
        "        f.write(tflite_model)\n",
        "\n",
        "    print(f\"Model TensorFlow Lite berhasil disimpan di: {tflite_model_path}\")"
      ],
      "metadata": {
        "colab": {
          "base_uri": "https://localhost:8080/"
        },
        "id": "HpBDmJERLdMj",
        "outputId": "554ae729-61c6-43e7-afe4-e044c285ac83"
      },
      "execution_count": null,
      "outputs": [
        {
          "output_type": "stream",
          "name": "stdout",
          "text": [
            "Model TensorFlow Lite berhasil disimpan di: /content/drive/My Drive/MODEL_color_tflite/model_color_recognition_DSV3.tflite\n"
          ]
        }
      ]
    }
  ]
}